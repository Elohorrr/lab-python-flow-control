{
 "cells": [
  {
   "cell_type": "markdown",
   "id": "d3bfc191-8885-42ee-b0a0-bbab867c6f9f",
   "metadata": {
    "tags": []
   },
   "source": [
    "# Lab | Flow Control"
   ]
  },
  {
   "cell_type": "markdown",
   "id": "3851fcd1-cf98-4653-9c89-e003b7ec9400",
   "metadata": {},
   "source": [
    "## Exercise: Managing Customer Orders Optimized\n",
    "\n",
    "In the last lab, you were starting an online store that sells various products. To ensure smooth operations, you developed a program that manages customer orders and inventory.\n",
    "\n",
    "You did so without using flow control. Let's go a step further and improve this code.\n",
    "\n",
    "Follow the steps below to complete the exercise:\n",
    "\n",
    "1. Look at your code from the lab data structures, and improve repeated code with loops.\n",
    "\n",
    "2. Instead of asking the user to input the name of three products that a customer wants to order, do the following:\n",
    "    \n",
    "    a. Prompt the user to enter the name of a product that a customer wants to order.\n",
    "    \n",
    "    b. Add the product name to the \"customer_orders\" set.\n",
    "    \n",
    "    c. Ask the user if they want to add another product (yes/no).\n",
    "    \n",
    "    d. Continue the loop until the user does not want to add another product.\n",
    "\n",
    "3. Instead of updating the inventory by subtracting 1 from the quantity of each product, only do it for  the products that were ordered (those in \"customer_orders\")."
   ]
  },
  {
   "cell_type": "code",
   "execution_count": null,
   "id": "911d6c28-5665-43b3-bbc8-0b78f15f9568",
   "metadata": {},
   "outputs": [],
   "source": [
    "#no 2\n",
    "name_of_products = input(f\"Enter the name of three items from the inventory {products}: \")\n",
    "number_of_products = len(name_of_products.split())\n",
    "\n",
    "if number_of_products != 3:\n",
    "    if number_of_products < 3:\n",
    "        print(\"More products required\")\n",
    "        # Ask for the missing amount of products\n",
    "    else:\n",
    "        print(\"Too many products\") \n",
    "        # Ask which products to remove\n",
    "else:\n",
    "    customer_orders = set(name_of_products.split())\n",
    "\n",
    "print(customer_orders)"
   ]
  },
  {
   "cell_type": "code",
   "execution_count": 33,
   "id": "3a4c34d4-8367-4cbb-b6e8-6a558dc5d542",
   "metadata": {},
   "outputs": [
    {
     "name": "stdin",
     "output_type": "stream",
     "text": [
      "Name of product customer wants to order [products]:  hat\n"
     ]
    },
    {
     "name": "stdout",
     "output_type": "stream",
     "text": [
      "hat has been added to your orders\n"
     ]
    },
    {
     "name": "stdin",
     "output_type": "stream",
     "text": [
      "Do you want another product? (yes/no):  yes\n",
      "Name of product customer wants to order [products]:  mug\n"
     ]
    },
    {
     "name": "stdout",
     "output_type": "stream",
     "text": [
      "mug has been added to your orders\n"
     ]
    },
    {
     "name": "stdin",
     "output_type": "stream",
     "text": [
      "Do you want another product? (yes/no):  no\n"
     ]
    }
   ],
   "source": [
    "#no 2\n",
    "while True:\n",
    "    products = [\"t-shirt\", \"mug\", \"hat\", \"keychain\", \"book\"]\n",
    "\n",
    "    customer_orders = {}\n",
    "\n",
    "    product = input(f\"Name of product customer wants to order [products]: \")\n",
    "    if product in products:\n",
    "        print(f\"{product} has been added to your orders\")\n",
    "          \n",
    "    another = input(\"Do you want another product? (yes/no): \")\n",
    "    if another != \"yes\":\n",
    "        break"
   ]
  },
  {
   "cell_type": "code",
   "execution_count": 40,
   "id": "83ad0ac9-fecf-4b11-818f-44d5539fa034",
   "metadata": {},
   "outputs": [
    {
     "name": "stdout",
     "output_type": "stream",
     "text": [
      "\n",
      "Customer orders: \n"
     ]
    }
   ],
   "source": [
    "#no 3\n",
    "print(\"\\nCustomer orders: \")\n",
    "for order in customer_orders:\n",
    "    print(customer_orders)"
   ]
  },
  {
   "cell_type": "code",
   "execution_count": null,
   "id": "050f0f4e-e8e0-452f-9190-14fb5b157690",
   "metadata": {},
   "outputs": [],
   "source": []
  }
 ],
 "metadata": {
  "kernelspec": {
   "display_name": "Python 3 (ipykernel)",
   "language": "python",
   "name": "python3"
  },
  "language_info": {
   "codemirror_mode": {
    "name": "ipython",
    "version": 3
   },
   "file_extension": ".py",
   "mimetype": "text/x-python",
   "name": "python",
   "nbconvert_exporter": "python",
   "pygments_lexer": "ipython3",
   "version": "3.9.13"
  }
 },
 "nbformat": 4,
 "nbformat_minor": 5
}
